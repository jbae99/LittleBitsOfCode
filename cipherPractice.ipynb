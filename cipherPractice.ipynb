{
  "nbformat": 4,
  "nbformat_minor": 0,
  "metadata": {
    "colab": {
      "provenance": []
    },
    "kernelspec": {
      "name": "python3",
      "display_name": "Python 3"
    },
    "language_info": {
      "name": "python"
    }
  },
  "cells": [
    {
      "cell_type": "code",
      "source": [
        "import numpy as np\n",
        "import itertools\n",
        "from functools import reduce\n",
        "import random\n",
        "import secrets"
      ],
      "metadata": {
        "id": "AEa6Cw76qEHn"
      },
      "execution_count": 87,
      "outputs": []
    },
    {
      "cell_type": "code",
      "source": [
        "def bytesToArray(targetBytes, blockSize):\n",
        "    binString = ''\n",
        "    for utfInt in targetBytes:\n",
        "        binString += format(utfInt, '08b')\n",
        "\n",
        "    blockedBin = [''.join(x) for x in itertools.zip_longest(*[iter(binString)]*blockSize, fillvalue='0')]\n",
        "\n",
        "    blockedBinArr = np.zeros(shape=(len(blockedBin), blockSize), dtype=np.int8)\n",
        "\n",
        "    for i in np.arange(len(blockedBin)):\n",
        "        for j in np.arange(blockSize):\n",
        "            blockedBinArr[i][j] = int(blockedBin[i][j])\n",
        "\n",
        "    return blockedBinArr"
      ],
      "metadata": {
        "id": "1qrozQtZFwaG"
      },
      "execution_count": 126,
      "outputs": []
    },
    {
      "cell_type": "code",
      "source": [
        "def arrayToBytes(targetArr, blockSize, decoding):\n",
        "    #array holding indicies which will be saved for parity bits\n",
        "    parityIndicies = 2**np.arange(int(np.log2(blockSize)) - 1, -1, -1)\n",
        "\n",
        "    #read non-parity bits into a string\n",
        "    result = ''\n",
        "    for block in targetArr:\n",
        "        for i, bit in enumerate(block):\n",
        "            if decoding:\n",
        "                if i not in parityIndicies and i:\n",
        "                    result += str(bit)\n",
        "            else:\n",
        "                result += str(bit)\n",
        "                \n",
        "    #split binary string into binary bytes and return the result as a bytearray\n",
        "    splitResult = [''.join(x) for x in zip(*[iter(result)]* 8)]\n",
        "    final = []\n",
        "    for bin in splitResult:\n",
        "        final.append(int(bin,2))\n",
        "\n",
        "    return bytes(final)"
      ],
      "metadata": {
        "id": "4puRZDJ3J61-"
      },
      "execution_count": 127,
      "outputs": []
    },
    {
      "cell_type": "code",
      "source": [
        "def encode(targetBytes, blockSize):\n",
        "    #array holding indicies which will be saved for parity bits\n",
        "    parityIndicies = 2**np.arange(int(np.log2(blockSize)) - 1, -1, -1)\n",
        "\n",
        "    dataLen = blockSize - int(np.log2(blockSize)) - 1\n",
        "    blockedBin = bytesToArray(targetBytes, dataLen)\n",
        "\n",
        "    #create array to hold coded blocks\n",
        "    blockNum = len(blockedBin)\n",
        "    formattedBlockedBin = np.zeros(shape=(len(blockedBin), blockSize), dtype=np.int8)\n",
        "\n",
        "    #step through blockedBin and insert values into formattedBlockedBin\n",
        "    for block in np.arange(blockNum): \n",
        "        formIdx = 3\n",
        "        for char in blockedBin[block]:\n",
        "            while formIdx in parityIndicies:\n",
        "                formIdx += 1\n",
        "            formattedBlockedBin[block, formIdx] = int(char)\n",
        "            formIdx += 1\n",
        "         \n",
        "    #step through formatted blocks and set parity bits, then randomy flip a non parity bit\n",
        "    parityKeyLen = str(len(parityIndicies))\n",
        "    for block in formattedBlockedBin:\n",
        "        locations = [i for i, bit in enumerate(block) if bit]\n",
        "        parityKey = format(reduce(lambda x, y: x^y, locations), '0'+parityKeyLen+'b') ##THIS IS WHY IT WONT WORK WITH NUMBERS OTHER THAN 16, NEED TO FIX PARITYINDICIES\n",
        "        for i, bit in enumerate(parityKey):\n",
        "            if int(bit):\n",
        "                block[parityIndicies[i]] = 1\n",
        "\n",
        "        randomIdx = secrets.randbelow(blockSize)\n",
        "        while randomIdx in parityIndicies:\n",
        "            randomIdx = secrets.randbelow(blockSize)\n",
        "        block[randomIdx] = 0 if block[randomIdx] else 1\n",
        "    \n",
        "    return arrayToBytes(formattedBlockedBin, blockSize, False)"
      ],
      "metadata": {
        "id": "bV2GuLCagh9p"
      },
      "execution_count": 128,
      "outputs": []
    },
    {
      "cell_type": "code",
      "source": [
        "#dicode the flipped bit with xor\n",
        "def decode(targetBytes, blockSize):\n",
        "    blockedBin = bytesToArray(targetBytes, blockSize)\n",
        "\n",
        "    for block in blockedBin:\n",
        "        locations = [i for i, bit in enumerate(block) if bit]\n",
        "        wrongBit = reduce(lambda x, y: x^y, locations)\n",
        "        block[wrongBit] = 0 if block[wrongBit] else 1\n",
        "\n",
        "    return arrayToBytes(blockedBin, blockSize, True)"
      ],
      "metadata": {
        "id": "nDyfSPoBqlW8"
      },
      "execution_count": 129,
      "outputs": []
    },
    {
      "cell_type": "code",
      "source": [
        "test = 'Now its easier for me to test things a lot. How does it do with a longer string and some weird characters? *!#% Seems good so far'.encode()\n",
        "blockSize = 32\n",
        "coded = encode(test, blockSize)\n",
        "decoded = decode(coded, blockSize)\n",
        "coded, decoded"
      ],
      "metadata": {
        "colab": {
          "base_uri": "https://localhost:8080/"
        },
        "id": "BdfjkRauL5OO",
        "outputId": "f0c773ed-f664-4fee-809c-b8410b44dbb5"
      },
      "execution_count": 130,
      "outputs": [
        {
          "output_type": "execute_result",
          "data": {
            "text/plain": [
              "(b'\\x04s=\\xd4x\\x8dWG\\t\\x10\\x19XefIeo\\x11\\x81\\x91S\\xee2\\x06=\\xb2H=I\\xde\\xa0vF\\xab\\xcd\\xd2X\\x0e\\x06\\x861w\\x19\\xdcT@a\"\\x0e\\xe3=\\xd2\\x13\\x84\\x04\\x86/;\\xc8\\x19!^\\xe5wJ\\x83%\\xd88\\x8cF\\xe2\\x00;\\xd8]a\\xd0!a*\\x13\\xb1\\xbd{Lvwb\\x92\\x9c\\xddId\\xedn\\x0e\\xbd\\x01\\x85SL\\xc2\\x17!\\xb7\\xdbYE\\xc0we.O\\xc9\\x90\\xf0\\x8c\\xb6\\x86\\t\\xb9\\x98\\x18\\xd5\\xe8erO\\x19|\\x90r\\xc4\\x92\\x12\\xad\\x10\\x94\\xd9MJm\\xf3J#\\x1d\\xbds\\xac\\xc2\\x07C\\'\\xc8\\x19YBr\\x04',\n",
              " b'Now its easier for me to test things a lot. How does it do with a longer string and some weird characters? *!#% Seems good so far\\x00')"
            ]
          },
          "metadata": {},
          "execution_count": 130
        }
      ]
    }
  ]
}